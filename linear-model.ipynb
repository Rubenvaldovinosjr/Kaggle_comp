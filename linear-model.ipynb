{
 "cells": [
  {
   "cell_type": "code",
   "execution_count": 1,
   "id": "baa40c8d",
   "metadata": {
    "_cell_guid": "b1076dfc-b9ad-4769-8c92-a6c4dae69d19",
    "_uuid": "8f2839f25d086af736a60e9eeb907d3b93b6e0e5",
    "execution": {
     "iopub.execute_input": "2023-04-28T14:24:42.349818Z",
     "iopub.status.busy": "2023-04-28T14:24:42.348980Z",
     "iopub.status.idle": "2023-04-28T14:24:42.383893Z",
     "shell.execute_reply": "2023-04-28T14:24:42.382746Z"
    },
    "papermill": {
     "duration": 0.051975,
     "end_time": "2023-04-28T14:24:42.387311",
     "exception": false,
     "start_time": "2023-04-28T14:24:42.335336",
     "status": "completed"
    },
    "tags": []
   },
   "outputs": [
    {
     "name": "stdout",
     "output_type": "stream",
     "text": [
      "/kaggle/input/amp-parkinsons-disease-progression-prediction/train_proteins.csv\n",
      "/kaggle/input/amp-parkinsons-disease-progression-prediction/train_clinical_data.csv\n",
      "/kaggle/input/amp-parkinsons-disease-progression-prediction/public_timeseries_testing_util.py\n",
      "/kaggle/input/amp-parkinsons-disease-progression-prediction/supplemental_clinical_data.csv\n",
      "/kaggle/input/amp-parkinsons-disease-progression-prediction/train_peptides.csv\n",
      "/kaggle/input/amp-parkinsons-disease-progression-prediction/amp_pd_peptide/competition.cpython-37m-x86_64-linux-gnu.so\n",
      "/kaggle/input/amp-parkinsons-disease-progression-prediction/amp_pd_peptide/__init__.py\n",
      "/kaggle/input/amp-parkinsons-disease-progression-prediction/example_test_files/sample_submission.csv\n",
      "/kaggle/input/amp-parkinsons-disease-progression-prediction/example_test_files/test_proteins.csv\n",
      "/kaggle/input/amp-parkinsons-disease-progression-prediction/example_test_files/test_peptides.csv\n",
      "/kaggle/input/amp-parkinsons-disease-progression-prediction/example_test_files/test.csv\n"
     ]
    }
   ],
   "source": [
    "# This Python 3 environment comes with many helpful analytics libraries installed\n",
    "# It is defined by the kaggle/python Docker image: https://github.com/kaggle/docker-python\n",
    "# For example, here's several helpful packages to load\n",
    "\n",
    "import numpy as np # linear algebra\n",
    "import pandas as pd # data processing, CSV file I/O (e.g. pd.read_csv)\n",
    "\n",
    "# Input data files are available in the read-only \"../input/\" directory\n",
    "# For example, running this (by clicking run or pressing Shift+Enter) will list all files under the input directory\n",
    "\n",
    "import os\n",
    "for dirname, _, filenames in os.walk('/kaggle/input'):\n",
    "    for filename in filenames:\n",
    "        print(os.path.join(dirname, filename))\n",
    "\n",
    "# You can write up to 20GB to the current directory (/kaggle/working/) that gets preserved as output when you create a version using \"Save & Run All\" \n",
    "# You can also write temporary files to /kaggle/temp/, but they won't be saved outside of the current session"
   ]
  },
  {
   "cell_type": "code",
   "execution_count": 2,
   "id": "1718a7d0",
   "metadata": {
    "execution": {
     "iopub.execute_input": "2023-04-28T14:24:42.407271Z",
     "iopub.status.busy": "2023-04-28T14:24:42.406885Z",
     "iopub.status.idle": "2023-04-28T14:24:45.924576Z",
     "shell.execute_reply": "2023-04-28T14:24:45.922780Z"
    },
    "papermill": {
     "duration": 3.532469,
     "end_time": "2023-04-28T14:24:45.928911",
     "exception": false,
     "start_time": "2023-04-28T14:24:42.396442",
     "status": "completed"
    },
    "tags": []
   },
   "outputs": [
    {
     "data": {
      "text/html": [
       "<style type='text/css'>\n",
       ".datatable table.frame { margin-bottom: 0; }\n",
       ".datatable table.frame thead { border-bottom: none; }\n",
       ".datatable table.frame tr.coltypes td {  color: #FFFFFF;  line-height: 6px;  padding: 0 0.5em;}\n",
       ".datatable .bool    { background: #DDDD99; }\n",
       ".datatable .object  { background: #565656; }\n",
       ".datatable .int     { background: #5D9E5D; }\n",
       ".datatable .float   { background: #4040CC; }\n",
       ".datatable .str     { background: #CC4040; }\n",
       ".datatable .time    { background: #40CC40; }\n",
       ".datatable .row_index {  background: var(--jp-border-color3);  border-right: 1px solid var(--jp-border-color0);  color: var(--jp-ui-font-color3);  font-size: 9px;}\n",
       ".datatable .frame tbody td { text-align: left; }\n",
       ".datatable .frame tr.coltypes .row_index {  background: var(--jp-border-color0);}\n",
       ".datatable th:nth-child(2) { padding-left: 12px; }\n",
       ".datatable .hellipsis {  color: var(--jp-cell-editor-border-color);}\n",
       ".datatable .vellipsis {  background: var(--jp-layout-color0);  color: var(--jp-cell-editor-border-color);}\n",
       ".datatable .na {  color: var(--jp-cell-editor-border-color);  font-size: 80%;}\n",
       ".datatable .sp {  opacity: 0.25;}\n",
       ".datatable .footer { font-size: 9px; }\n",
       ".datatable .frame_dimensions {  background: var(--jp-border-color3);  border-top: 1px solid var(--jp-border-color0);  color: var(--jp-ui-font-color3);  display: inline-block;  opacity: 0.6;  padding: 1px 10px 1px 5px;}\n",
       "</style>\n"
      ],
      "text/plain": [
       "<IPython.core.display.HTML object>"
      ]
     },
     "metadata": {},
     "output_type": "display_data"
    }
   ],
   "source": [
    "# Loading libraries\n",
    "import numpy as np\n",
    "import pandas as pd\n",
    "import matplotlib.pyplot as plt\n",
    "import seaborn as sns\n",
    "import lightgbm as lgb\n",
    "import tqdm\n",
    "import re\n",
    "from itertools import product\n",
    "from functools import reduce\n",
    "\n",
    "import warnings\n",
    "warnings.filterwarnings(\"ignore\", category=UserWarning)\n",
    "warnings.filterwarnings(\"ignore\", category=DeprecationWarning)\n",
    "warnings.filterwarnings(\"ignore\", category=FutureWarning)\n",
    "\n",
    "pd.set_option('display.float_format',lambda x: '%.3f' % x)"
   ]
  },
  {
   "cell_type": "code",
   "execution_count": 3,
   "id": "e3bfb566",
   "metadata": {
    "execution": {
     "iopub.execute_input": "2023-04-28T14:24:45.951152Z",
     "iopub.status.busy": "2023-04-28T14:24:45.950652Z",
     "iopub.status.idle": "2023-04-28T14:24:47.889747Z",
     "shell.execute_reply": "2023-04-28T14:24:47.888296Z"
    },
    "papermill": {
     "duration": 1.952954,
     "end_time": "2023-04-28T14:24:47.893398",
     "exception": false,
     "start_time": "2023-04-28T14:24:45.940444",
     "status": "completed"
    },
    "tags": []
   },
   "outputs": [
    {
     "data": {
      "text/plain": [
       "((232741, 5), (981834, 6), (2615, 8))"
      ]
     },
     "execution_count": 3,
     "metadata": {},
     "output_type": "execute_result"
    }
   ],
   "source": [
    "# Reading the datasets\n",
    "protein_data = pd.read_csv('/kaggle/input/amp-parkinsons-disease-progression-prediction/train_proteins.csv')\n",
    "peptides_data = pd.read_csv('/kaggle/input/amp-parkinsons-disease-progression-prediction/train_peptides.csv')\n",
    "target_data = pd.read_csv('/kaggle/input/amp-parkinsons-disease-progression-prediction/train_clinical_data.csv')\n",
    "sup_target_data = pd.read_csv('/kaggle/input/amp-parkinsons-disease-progression-prediction/supplemental_clinical_data.csv')\n",
    "protein_data.shape, peptides_data.shape, target_data.shape"
   ]
  },
  {
   "cell_type": "code",
   "execution_count": 4,
   "id": "0e60ba52",
   "metadata": {
    "execution": {
     "iopub.execute_input": "2023-04-28T14:24:47.914886Z",
     "iopub.status.busy": "2023-04-28T14:24:47.913960Z",
     "iopub.status.idle": "2023-04-28T14:24:47.949712Z",
     "shell.execute_reply": "2023-04-28T14:24:47.948438Z"
    },
    "papermill": {
     "duration": 0.050679,
     "end_time": "2023-04-28T14:24:47.953382",
     "exception": false,
     "start_time": "2023-04-28T14:24:47.902703",
     "status": "completed"
    },
    "tags": []
   },
   "outputs": [
    {
     "data": {
      "text/plain": [
       "((4720, 8), 4720, 1019, 17)"
      ]
     },
     "execution_count": 4,
     "metadata": {},
     "output_type": "execute_result"
    }
   ],
   "source": [
    "# Merging target data and sup_target_data since we will be using only clinical data for modelling\n",
    "target_data = pd.concat([target_data,sup_target_data],axis = 0).reset_index(drop = True)\n",
    "target_data = target_data[target_data.visit_month != 5].copy()\n",
    "\n",
    "target_data.shape, target_data.visit_id.nunique(), target_data.patient_id.nunique(), target_data.visit_month.nunique()"
   ]
  },
  {
   "cell_type": "markdown",
   "id": "9ed1264a",
   "metadata": {
    "papermill": {
     "duration": 0.008907,
     "end_time": "2023-04-28T14:24:47.972267",
     "exception": false,
     "start_time": "2023-04-28T14:24:47.963360",
     "status": "completed"
    },
    "tags": []
   },
   "source": [
    "We have data for 1019 patients with max 18 visits "
   ]
  },
  {
   "cell_type": "code",
   "execution_count": 5,
   "id": "8dd761ca",
   "metadata": {
    "execution": {
     "iopub.execute_input": "2023-04-28T14:24:47.995570Z",
     "iopub.status.busy": "2023-04-28T14:24:47.994014Z",
     "iopub.status.idle": "2023-04-28T14:24:48.002642Z",
     "shell.execute_reply": "2023-04-28T14:24:48.001309Z"
    },
    "papermill": {
     "duration": 0.024039,
     "end_time": "2023-04-28T14:24:48.006204",
     "exception": false,
     "start_time": "2023-04-28T14:24:47.982165",
     "status": "completed"
    },
    "tags": []
   },
   "outputs": [],
   "source": [
    "# Filling misssing values in upd23b_clinical_state_on_medication by unknown\n",
    "target_data.upd23b_clinical_state_on_medication.fillna('unknown',inplace = True)"
   ]
  },
  {
   "cell_type": "code",
   "execution_count": 6,
   "id": "59cc95f1",
   "metadata": {
    "execution": {
     "iopub.execute_input": "2023-04-28T14:24:48.027086Z",
     "iopub.status.busy": "2023-04-28T14:24:48.026167Z",
     "iopub.status.idle": "2023-04-28T14:24:48.032303Z",
     "shell.execute_reply": "2023-04-28T14:24:48.030638Z"
    },
    "papermill": {
     "duration": 0.021734,
     "end_time": "2023-04-28T14:24:48.037488",
     "exception": false,
     "start_time": "2023-04-28T14:24:48.015754",
     "status": "completed"
    },
    "tags": []
   },
   "outputs": [],
   "source": [
    "# # Dropping missing values in the target dataset after filling na with 0 for updrs_4\n",
    "# target_data.updrs_4 = target_data.updrs_4.fillna(0)\n",
    "\n",
    "# target_data = target_data.dropna()\n",
    "# target_data.shape"
   ]
  },
  {
   "cell_type": "code",
   "execution_count": 7,
   "id": "0d69a2bb",
   "metadata": {
    "execution": {
     "iopub.execute_input": "2023-04-28T14:24:48.058941Z",
     "iopub.status.busy": "2023-04-28T14:24:48.058450Z",
     "iopub.status.idle": "2023-04-28T14:24:48.071663Z",
     "shell.execute_reply": "2023-04-28T14:24:48.070372Z"
    },
    "papermill": {
     "duration": 0.028433,
     "end_time": "2023-04-28T14:24:48.075380",
     "exception": false,
     "start_time": "2023-04-28T14:24:48.046947",
     "status": "completed"
    },
    "tags": []
   },
   "outputs": [
    {
     "data": {
      "text/plain": [
       "visit_id                                  0\n",
       "patient_id                                0\n",
       "visit_month                               0\n",
       "updrs_1                                  96\n",
       "updrs_2                                  98\n",
       "updrs_3                                  30\n",
       "updrs_4                                1863\n",
       "upd23b_clinical_state_on_medication       0\n",
       "dtype: int64"
      ]
     },
     "execution_count": 7,
     "metadata": {},
     "output_type": "execute_result"
    }
   ],
   "source": [
    "target_data.isna().sum()"
   ]
  },
  {
   "cell_type": "code",
   "execution_count": 8,
   "id": "cf757f4c",
   "metadata": {
    "execution": {
     "iopub.execute_input": "2023-04-28T14:24:48.098981Z",
     "iopub.status.busy": "2023-04-28T14:24:48.098465Z",
     "iopub.status.idle": "2023-04-28T14:24:48.105340Z",
     "shell.execute_reply": "2023-04-28T14:24:48.104010Z"
    },
    "papermill": {
     "duration": 0.02241,
     "end_time": "2023-04-28T14:24:48.107831",
     "exception": false,
     "start_time": "2023-04-28T14:24:48.085421",
     "status": "completed"
    },
    "tags": []
   },
   "outputs": [],
   "source": [
    "# Category columns\n",
    "id_cols = ['visit_id','patient_id','visit_month']\n",
    "target_cols = ['updrs_1','updrs_2','updrs_3','updrs_4']\n",
    "month_list  =  [0,6,12,24]"
   ]
  },
  {
   "cell_type": "markdown",
   "id": "3e700c60",
   "metadata": {
    "papermill": {
     "duration": 0.009499,
     "end_time": "2023-04-28T14:24:48.127134",
     "exception": false,
     "start_time": "2023-04-28T14:24:48.117635",
     "status": "completed"
    },
    "tags": []
   },
   "source": [
    "**Since medication is not available in test data. Filling medication to unknown in test data to see the impact**"
   ]
  },
  {
   "cell_type": "code",
   "execution_count": 9,
   "id": "0b6c3ffb",
   "metadata": {
    "execution": {
     "iopub.execute_input": "2023-04-28T14:24:48.150292Z",
     "iopub.status.busy": "2023-04-28T14:24:48.149845Z",
     "iopub.status.idle": "2023-04-28T14:24:48.171562Z",
     "shell.execute_reply": "2023-04-28T14:24:48.170227Z"
    },
    "papermill": {
     "duration": 0.036952,
     "end_time": "2023-04-28T14:24:48.175115",
     "exception": false,
     "start_time": "2023-04-28T14:24:48.138163",
     "status": "completed"
    },
    "tags": []
   },
   "outputs": [],
   "source": [
    "# Creating features for target data \n",
    "def create_target_features(target_data,test=None):\n",
    "    \n",
    "    if test is None:\n",
    "        test1 = target_data[['patient_id','visit_month','upd23b_clinical_state_on_medication']].copy()\n",
    "        test1['upd23b_clinical_state_on_medication']  = test1['upd23b_clinical_state_on_medication'].fillna('unknown')\n",
    "    else:\n",
    "        test1 = test.copy()\n",
    "        if 'upd23b_clinical_state_on_medication' not in test1.columns.tolist():\n",
    "            test1['upd23b_clinical_state_on_medication'] = 'unknown'\n",
    "        else:\n",
    "            test1['upd23b_clinical_state_on_medication']  = test1['upd23b_clinical_state_on_medication'].fillna('unknown')\n",
    "        test1 = test1[['patient_id','visit_month','upd23b_clinical_state_on_medication']].drop_duplicates().copy()\n",
    "            \n",
    "        patients = test1.patient_id.unique()\n",
    "        visit_months=test1.visit_month.unique()\n",
    "        \n",
    "        test1['visit_month_orig'] = test1['visit_month']\n",
    "\n",
    "        test_data = pd.DataFrame()\n",
    "        for patient in patients:\n",
    "            for month in [0,6,12,24]:\n",
    "                p_data = test1[test1['patient_id'] == patient].copy()\n",
    "                p_data['visit_month'] = p_data['visit_month'].values + month\n",
    "                test_data = pd.concat([test_data,p_data],axis=0)\n",
    "        test1 = test_data.copy()\n",
    "        \n",
    "\n",
    "    # Replacing missing values with median by visit_month & medication\n",
    "    target_data1 = target_data.copy()\n",
    "    tmeds = target_data1.groupby(['visit_month','upd23b_clinical_state_on_medication'],group_keys =False)[target_cols].apply(lambda x: x.fillna(x.median())).sort_index()\n",
    "    target_data1 = target_data1[['patient_id','visit_month','upd23b_clinical_state_on_medication']].join(tmeds)\n",
    "\n",
    "    # Building grp features\n",
    "    all_grp_cols = [['visit_month'],['upd23b_clinical_state_on_medication']] + [['visit_month','upd23b_clinical_state_on_medication']]\n",
    "    \n",
    "    target_data2 = target_data1[['visit_month','upd23b_clinical_state_on_medication']].drop_duplicates()\n",
    "    for grp_col in all_grp_cols:    \n",
    "        temp = target_data1.groupby(grp_col)[target_cols].agg(['min','max','mean','median','sum','std'])\n",
    "        temp.columns = [i+'_' + j + '_'+ '_'.join(grp_col) for i,j in temp.columns]\n",
    "        target_data2 = target_data2.join(temp,on = grp_col)\n",
    "        target_data2  = target_data2.join(target_data1.groupby(grp_col)['updrs_1'].count().rename('_'.join(grp_col)+'_count'),\n",
    "                                          on = grp_col)\n",
    "    \n",
    "    # Flags for medication\n",
    "    test1['med_unknown'] = (test1['upd23b_clinical_state_on_medication'] == 'unknown').astype(int)\n",
    "    test1['med_off'] = (test1['upd23b_clinical_state_on_medication'] == 'Off').astype(int)\n",
    "    test1['med_on'] = (test1['upd23b_clinical_state_on_medication'] == 'On').astype(int)\n",
    "    \n",
    "    model_data = test1.merge(target_data2,on = ['visit_month','upd23b_clinical_state_on_medication'],how = 'inner').drop(columns = 'upd23b_clinical_state_on_medication')\n",
    "    feature_cols = model_data.drop(columns = ['patient_id']).columns.tolist()\n",
    "    \n",
    "    # Imputing model_data by median value by visit_month\n",
    "    model_data = model_data.groupby('visit_month',group_keys = False).apply(lambda x: x.fillna(x.median()))\n",
    "\n",
    "    if test is None:\n",
    "        model_data = model_data.merge(target_data1[['patient_id','visit_month'] + target_cols],\n",
    "                                      on = ['patient_id','visit_month'],\n",
    "                                      how = 'inner')\n",
    "\n",
    "    return model_data,feature_cols"
   ]
  },
  {
   "cell_type": "code",
   "execution_count": 10,
   "id": "261e63ef",
   "metadata": {
    "execution": {
     "iopub.execute_input": "2023-04-28T14:24:48.198805Z",
     "iopub.status.busy": "2023-04-28T14:24:48.197094Z",
     "iopub.status.idle": "2023-04-28T14:24:48.203881Z",
     "shell.execute_reply": "2023-04-28T14:24:48.202334Z"
    },
    "papermill": {
     "duration": 0.022344,
     "end_time": "2023-04-28T14:24:48.206897",
     "exception": false,
     "start_time": "2023-04-28T14:24:48.184553",
     "status": "completed"
    },
    "tags": []
   },
   "outputs": [],
   "source": [
    "# target_data"
   ]
  },
  {
   "cell_type": "code",
   "execution_count": 11,
   "id": "09c5ebc4",
   "metadata": {
    "execution": {
     "iopub.execute_input": "2023-04-28T14:24:48.231839Z",
     "iopub.status.busy": "2023-04-28T14:24:48.230236Z",
     "iopub.status.idle": "2023-04-28T14:24:48.841399Z",
     "shell.execute_reply": "2023-04-28T14:24:48.839782Z"
    },
    "papermill": {
     "duration": 0.626441,
     "end_time": "2023-04-28T14:24:48.844800",
     "exception": false,
     "start_time": "2023-04-28T14:24:48.218359",
     "status": "completed"
    },
    "tags": []
   },
   "outputs": [
    {
     "data": {
      "text/plain": [
       "((4720, 84), 79)"
      ]
     },
     "execution_count": 11,
     "metadata": {},
     "output_type": "execute_result"
    }
   ],
   "source": [
    "# Getting the features \n",
    "model_data, feature_cols = create_target_features(target_data)\n",
    "model_data.shape, len(feature_cols)"
   ]
  },
  {
   "cell_type": "code",
   "execution_count": 12,
   "id": "9a092a62",
   "metadata": {
    "execution": {
     "iopub.execute_input": "2023-04-28T14:24:48.866301Z",
     "iopub.status.busy": "2023-04-28T14:24:48.865856Z",
     "iopub.status.idle": "2023-04-28T14:24:48.881690Z",
     "shell.execute_reply": "2023-04-28T14:24:48.879930Z"
    },
    "papermill": {
     "duration": 0.031017,
     "end_time": "2023-04-28T14:24:48.885404",
     "exception": false,
     "start_time": "2023-04-28T14:24:48.854387",
     "status": "completed"
    },
    "tags": []
   },
   "outputs": [
    {
     "data": {
      "text/plain": [
       "((4720, 2), (4720, 84))"
      ]
     },
     "execution_count": 12,
     "metadata": {},
     "output_type": "execute_result"
    }
   ],
   "source": [
    "model_data[['patient_id','visit_month']].drop_duplicates().shape, model_data.shape"
   ]
  },
  {
   "cell_type": "code",
   "execution_count": 13,
   "id": "9c7576f1",
   "metadata": {
    "execution": {
     "iopub.execute_input": "2023-04-28T14:24:48.906552Z",
     "iopub.status.busy": "2023-04-28T14:24:48.906128Z",
     "iopub.status.idle": "2023-04-28T14:24:48.913430Z",
     "shell.execute_reply": "2023-04-28T14:24:48.911289Z"
    },
    "papermill": {
     "duration": 0.02207,
     "end_time": "2023-04-28T14:24:48.916745",
     "exception": false,
     "start_time": "2023-04-28T14:24:48.894675",
     "status": "completed"
    },
    "tags": []
   },
   "outputs": [],
   "source": [
    "# feature_cols = ['visit_month','med_unknown','med_off','med_on','visit_month_count',\n",
    "#                 'upd23b_clinical_state_on_medication_count','visit_month_upd23b_clinical_state_on_medication_count']\n",
    "feature_cols = ['visit_month','visit_month_count']\n"
   ]
  },
  {
   "cell_type": "code",
   "execution_count": 14,
   "id": "fcee9bfa",
   "metadata": {
    "execution": {
     "iopub.execute_input": "2023-04-28T14:24:48.938223Z",
     "iopub.status.busy": "2023-04-28T14:24:48.937790Z",
     "iopub.status.idle": "2023-04-28T14:24:48.946651Z",
     "shell.execute_reply": "2023-04-28T14:24:48.944763Z"
    },
    "papermill": {
     "duration": 0.023408,
     "end_time": "2023-04-28T14:24:48.950214",
     "exception": false,
     "start_time": "2023-04-28T14:24:48.926806",
     "status": "completed"
    },
    "tags": []
   },
   "outputs": [],
   "source": [
    "#  Metric\n",
    "def smape(y_true, y_pred):\n",
    "    y_true = np.expm1(y_true) + 1\n",
    "    y_pred = np.expm1(y_pred) + 1\n",
    "    \n",
    "    return 100/len(y_true) * np.sum(2 * np.abs(y_pred - y_true) / (np.abs(y_true) + np.abs(y_pred)))"
   ]
  },
  {
   "cell_type": "code",
   "execution_count": 15,
   "id": "50f9d0ef",
   "metadata": {
    "execution": {
     "iopub.execute_input": "2023-04-28T14:24:48.971799Z",
     "iopub.status.busy": "2023-04-28T14:24:48.971377Z",
     "iopub.status.idle": "2023-04-28T14:24:49.444926Z",
     "shell.execute_reply": "2023-04-28T14:24:49.442998Z"
    },
    "papermill": {
     "duration": 0.487978,
     "end_time": "2023-04-28T14:24:49.447968",
     "exception": false,
     "start_time": "2023-04-28T14:24:48.959990",
     "status": "completed"
    },
    "tags": []
   },
   "outputs": [],
   "source": [
    "from sklearn.preprocessing import MinMaxScaler,  RobustScaler, StandardScaler\n",
    "from sklearn.model_selection import GroupKFold, GroupShuffleSplit\n",
    "from sklearn.svm import SVR, LinearSVR\n",
    "from sklearn.linear_model import Ridge, Lasso, ElasticNet, LinearRegression,PoissonRegressor\n",
    "from sklearn.model_selection import cross_validate,cross_val_predict\n",
    "from sklearn.metrics import make_scorer\n",
    "from sklearn.pipeline import Pipeline\n",
    "from sklearn.ensemble import BaggingRegressor, GradientBoostingRegressor, StackingRegressor\n",
    "import lightgbm as lgb"
   ]
  },
  {
   "cell_type": "code",
   "execution_count": 16,
   "id": "7765d24e",
   "metadata": {
    "execution": {
     "iopub.execute_input": "2023-04-28T14:24:49.469277Z",
     "iopub.status.busy": "2023-04-28T14:24:49.468844Z",
     "iopub.status.idle": "2023-04-28T14:24:49.476071Z",
     "shell.execute_reply": "2023-04-28T14:24:49.474074Z"
    },
    "papermill": {
     "duration": 0.022635,
     "end_time": "2023-04-28T14:24:49.479982",
     "exception": false,
     "start_time": "2023-04-28T14:24:49.457347",
     "status": "completed"
    },
    "tags": []
   },
   "outputs": [],
   "source": [
    "# Scorer for cross validation\n",
    "smape_ = make_scorer(smape,greater_is_better=False)"
   ]
  },
  {
   "cell_type": "markdown",
   "id": "605df37d",
   "metadata": {
    "papermill": {
     "duration": 0.009398,
     "end_time": "2023-04-28T14:24:49.498621",
     "exception": false,
     "start_time": "2023-04-28T14:24:49.489223",
     "status": "completed"
    },
    "tags": []
   },
   "source": [
    "**Using LinearSVR model with groupshufflesplit with 5 splits**"
   ]
  },
  {
   "cell_type": "code",
   "execution_count": 17,
   "id": "aa43633e",
   "metadata": {
    "execution": {
     "iopub.execute_input": "2023-04-28T14:24:49.522469Z",
     "iopub.status.busy": "2023-04-28T14:24:49.521140Z",
     "iopub.status.idle": "2023-04-28T14:24:49.538906Z",
     "shell.execute_reply": "2023-04-28T14:24:49.536914Z"
    },
    "papermill": {
     "duration": 0.033886,
     "end_time": "2023-04-28T14:24:49.542030",
     "exception": false,
     "start_time": "2023-04-28T14:24:49.508144",
     "status": "completed"
    },
    "tags": []
   },
   "outputs": [],
   "source": [
    "def train_linear_model(model_data,feature_cols):\n",
    "    \n",
    "    lgb_params = {  'objective' : 'regression',\n",
    "                   'learning_rate' : 0.02,\n",
    "                   'max_depth' : 2,\n",
    "                   'num_leaves' : 4,\n",
    "                   'min_child_samples':20,\n",
    "                   'reg_alpha' : 25,\n",
    "                   'reg_lambda' : 25,\n",
    "                   'n_estimators' : 100,\n",
    "                   'colsample_bytree' : 0.5,\n",
    "                   'subsample' : 0.5,\n",
    "                     'random_state' : 2023}\n",
    "        \n",
    "    # Scaling the columns using MinMaxscaler\n",
    "#     scaler = MinMaxScaler(feature_range = (0,1))\n",
    "#     scaler.fit(model_data[feature_cols])\n",
    "#     model_data_x = pd.DataFrame(scaler.transform(model_data[feature_cols]),columns = scaler.feature_names_in_)\n",
    "    model_data_x = model_data.copy()\n",
    "    models = {}  \n",
    "    \n",
    "    gkf = GroupKFold(n_splits = 5)\n",
    "    \n",
    "    score_trn = [] ; score_test = []\n",
    "    \n",
    "    for target in target_cols:\n",
    "        \n",
    "        if target.find('updrs_3')>=0:\n",
    "            y =  model_data[target].replace(0,pd.NA).copy()\n",
    "            y =  model_data[target].dropna().copy()\n",
    "        else:\n",
    "            y =  model_data[target].dropna().copy() \n",
    "            \n",
    "        y = y.apply(np.log1p).copy()\n",
    "        \n",
    "        X  = model_data_x.loc[y.index.tolist(), feature_cols]\n",
    "        groups = model_data_x.loc[y.index.tolist(),'patient_id']\n",
    "\n",
    "        model1 = Pipeline([('scaler',RobustScaler()),         \n",
    "                          ('lsvr',LinearSVR(random_state=2023))])\n",
    "        \n",
    "        model2 = Pipeline([('scaler',MinMaxScaler()),         \n",
    "                          ('poisson',PoissonRegressor())])\n",
    "        \n",
    "        model3 = Pipeline([('scaler',RobustScaler()),         \n",
    "                          ('svr_rbf',SVR())])\n",
    "    \n",
    "        model4 = Pipeline([('scaler',StandardScaler()),         \n",
    "                          ('lr',LinearRegression())])\n",
    "        \n",
    "        model5 = lgb.LGBMRegressor(**lgb_params)\n",
    "        \n",
    "       \n",
    "        \n",
    "#         model = StackingRegressor([('lsvr',model1),\n",
    "#                                    ('poisson',model2),\n",
    "#                                    ('svr_rbf',model3),\n",
    "#                                    ('lr',model4),\n",
    "#                                    ('lgb',model5)],\n",
    "                                                \n",
    "#                                   final_estimator= ElasticNet(random_state=42),\n",
    "#                                  passthrough=True\n",
    "#                                  )\n",
    "        \n",
    "        \n",
    "        model = Pipeline([('scaler',RobustScaler()),         \n",
    "                          ('lsvr',LinearSVR(random_state=2023))])\n",
    "        results = cross_validate(model,\n",
    "                                X,\n",
    "                                y,\n",
    "                                groups=groups,\n",
    "                                cv=gkf,\n",
    "                                scoring=smape_,\n",
    "                                return_estimator=True,\n",
    "                                return_train_score=True)\n",
    "        results = pd.DataFrame(results)\n",
    "        score_trn += [results.train_score.abs().mean()]\n",
    "        score_test += [results.test_score.abs().mean()]\n",
    "        print(f'\\nTrain score for {target} : {results.train_score.abs().mean()}')\n",
    "        print(f'Test score for {target} : {results.test_score.abs().mean()}')  \n",
    "        models[target] = results\n",
    "    print('\\nTotal avg train score : ',np.mean(score_trn))\n",
    "    print('Total avg test score : ',np.mean(score_test))\n",
    "    \n",
    "    return models"
   ]
  },
  {
   "cell_type": "code",
   "execution_count": 18,
   "id": "c566ecbe",
   "metadata": {
    "execution": {
     "iopub.execute_input": "2023-04-28T14:24:49.565407Z",
     "iopub.status.busy": "2023-04-28T14:24:49.564571Z",
     "iopub.status.idle": "2023-04-28T14:24:50.337003Z",
     "shell.execute_reply": "2023-04-28T14:24:50.334555Z"
    },
    "papermill": {
     "duration": 0.788693,
     "end_time": "2023-04-28T14:24:50.341003",
     "exception": false,
     "start_time": "2023-04-28T14:24:49.552310",
     "status": "completed"
    },
    "tags": []
   },
   "outputs": [
    {
     "name": "stdout",
     "output_type": "stream",
     "text": [
      "\n",
      "Train score for updrs_1 : 53.95792590192947\n",
      "Test score for updrs_1 : 53.975688475352186\n",
      "\n",
      "Train score for updrs_2 : 63.434581089110225\n",
      "Test score for updrs_2 : 63.48838498092658\n",
      "\n",
      "Train score for updrs_3 : 59.073575104536054\n",
      "Test score for updrs_3 : 59.119219851071634\n",
      "\n",
      "Train score for updrs_4 : 25.484495386306385\n",
      "Test score for updrs_4 : 25.484495386305873\n",
      "\n",
      "Total avg train score :  50.487644370470534\n",
      "Total avg test score :  50.51694717341407\n"
     ]
    }
   ],
   "source": [
    "# Training the models\n",
    "models = train_linear_model(model_data,feature_cols)\n"
   ]
  },
  {
   "cell_type": "code",
   "execution_count": 19,
   "id": "ecc415cd",
   "metadata": {
    "execution": {
     "iopub.execute_input": "2023-04-28T14:24:50.363792Z",
     "iopub.status.busy": "2023-04-28T14:24:50.363326Z",
     "iopub.status.idle": "2023-04-28T14:24:50.369188Z",
     "shell.execute_reply": "2023-04-28T14:24:50.367641Z"
    },
    "papermill": {
     "duration": 0.021525,
     "end_time": "2023-04-28T14:24:50.372622",
     "exception": false,
     "start_time": "2023-04-28T14:24:50.351097",
     "status": "completed"
    },
    "tags": []
   },
   "outputs": [],
   "source": [
    "# model_data[['visit_month','updrs_1_median_visit_month','updrs_2_median_visit_month','updrs_3_median_visit_month','updrs_4_median_visit_month']].drop_duplicates()"
   ]
  },
  {
   "cell_type": "code",
   "execution_count": 20,
   "id": "168f9305",
   "metadata": {
    "execution": {
     "iopub.execute_input": "2023-04-28T14:24:50.397167Z",
     "iopub.status.busy": "2023-04-28T14:24:50.396249Z",
     "iopub.status.idle": "2023-04-28T14:24:50.407314Z",
     "shell.execute_reply": "2023-04-28T14:24:50.406013Z"
    },
    "papermill": {
     "duration": 0.026362,
     "end_time": "2023-04-28T14:24:50.410272",
     "exception": false,
     "start_time": "2023-04-28T14:24:50.383910",
     "status": "completed"
    },
    "tags": []
   },
   "outputs": [],
   "source": [
    "target_meds = model_data[['visit_month','updrs_1_median_visit_month','updrs_2_median_visit_month','updrs_3_median_visit_month','updrs_4_median_visit_month']].drop_duplicates()\n",
    "# target_meds"
   ]
  },
  {
   "cell_type": "code",
   "execution_count": 21,
   "id": "0577c036",
   "metadata": {
    "execution": {
     "iopub.execute_input": "2023-04-28T14:24:50.434571Z",
     "iopub.status.busy": "2023-04-28T14:24:50.432624Z",
     "iopub.status.idle": "2023-04-28T14:24:50.462472Z",
     "shell.execute_reply": "2023-04-28T14:24:50.460872Z"
    },
    "papermill": {
     "duration": 0.045617,
     "end_time": "2023-04-28T14:24:50.466525",
     "exception": false,
     "start_time": "2023-04-28T14:24:50.420908",
     "status": "completed"
    },
    "tags": []
   },
   "outputs": [],
   "source": [
    "# Function to make predictions on test \n",
    "def get_predictions(target_data,test,sample_submission,models,target_meds, scaler = None):\n",
    "    \n",
    "    # Creating features\n",
    "    model_data,feature_cols = create_target_features(target_data,test)\n",
    "    \n",
    "    feature_cols = ['visit_month','visit_month_count']\n",
    "\n",
    "    # Making predictions from all the models\n",
    "    pred_submission = pd.DataFrame(index = range(model_data.shape[0]))\n",
    "    \n",
    "    # Scaling the data\n",
    "#     pred_feats = pd.DataFrame(scaler.transform(model_data.drop(columns = ['patient_id','visit_month_orig'])),columns = scaler.feature_names_in_)\n",
    "    pred_feats = model_data[feature_cols].copy()\n",
    "    \n",
    "    for key,value in models.items():    \n",
    "        model_fits = models[key]['estimator'].tolist()\n",
    "        pred_train_temp = pd.DataFrame(np.mean(np.array([np.expm1(mod.predict(pred_feats)) for mod in value['estimator'].tolist()]),axis = 0))\n",
    "        pred_train_temp.columns = [key]\n",
    "        pred_submission = pred_submission.join(pred_train_temp)\n",
    "#     return pred_submission\n",
    "    pred_submission = pred_submission[models.keys()].copy() \n",
    "    model_data['visit_month_temp'] = model_data['visit_month'] - model_data['visit_month_orig']\n",
    "    pred_submission.index = model_data['patient_id'].astype(str) + '_' +model_data['visit_month_orig'].astype(str) + '_'+model_data['visit_month_temp'].apply(lambda x: 'plus_'+str(x) +'_months')\n",
    "\n",
    "#     pred_submission['updrs_4'] = 0\n",
    "#     pred_submission['updrs_3'] += 2\n",
    "#     pred_submission['updrs_2'] += 1.5 \n",
    "\n",
    "    # Calculating medians\n",
    "    ss_visit_months  = sample_submission.prediction_id.apply(lambda x: int(x.split('_')[1])+int(x.split('_')[5])).unique()\n",
    "    missing_vm = list(set(ss_visit_months).difference(target_meds.visit_month.unique()))\n",
    "    missing_vm = pd.DataFrame({'visit_month':missing_vm})\n",
    "    target_meds = target_meds.append(missing_vm,ignore_index=True)\n",
    "    target_meds = target_meds.fillna(method = 'ffill')    \n",
    "    target_meds = target_meds.drop_duplicates()\n",
    "    target_meds['visit_month'] = target_meds['visit_month'].astype(int)\n",
    "    target_meds = target_meds[target_meds['visit_month']!=5].copy()\n",
    "    target_meds = target_meds.set_index('visit_month')\n",
    "    target_meds = target_meds.sort_index()\n",
    "    target_meds = target_meds.expanding().max()\n",
    "    target_meds = target_meds.stack().reset_index().rename(columns = {'level_1':'target',0:'rating'})\n",
    "\n",
    "    target_meds['target'] = target_meds['target'].apply(lambda x: '_'.join(x.split('_')[:2]))\n",
    "    target_meds['key'] = target_meds[['target','visit_month']].apply(lambda x: str(x[0])+'_'+str(x[1]),axis = 1)\n",
    "    target_meds = target_meds.drop(columns = ['target','visit_month']).drop_duplicates().copy()\n",
    "    target_meds = target_meds.set_index('key')\n",
    "    \n",
    "#     return pred_submission    \n",
    "    pred_submission = pred_submission.stack().reset_index().rename(columns = {'level_0':'prediction_id','level_1':'target',0:'rating'})\n",
    "    pred_submission['prediction_id'] = pred_submission[['prediction_id','target']].apply(lambda x: '_'.join(x[0].split('_')[:2] + [x[1]] + x[0].split('_')[2:]) ,axis= 1)\n",
    "    pred_submission.drop(columns = ['target'],inplace= True)\n",
    "#     pred_submission['group_key'] = pred_submission['prediction_id'].apply(lambda x: x.split('_')[1]).astype('str')\n",
    "    pred_submission.reset_index(drop = True,inplace = True)\n",
    "    sample_submission = sample_submission.drop(columns = ['rating']).copy()\n",
    "    sample_submission = sample_submission.merge(pred_submission,on = ['prediction_id'],how = 'left')\n",
    "    sample_submission['rating1'] = sample_submission.prediction_id.apply(lambda x: '_'.join(x.split('_')[2:4]) + '_'+ str(int(x.split('_')[1])+int(x.split('_')[5]))).map(target_meds.rating)\n",
    "    \n",
    "    sample_submission['rating'] = np.where(sample_submission.prediction_id.str.contains('updrs_4|updrs_3'),\n",
    "                                           sample_submission['rating1'],\n",
    "                                           sample_submission['rating']*0.5  +  sample_submission['rating1']*0.5\n",
    "                                          )\n",
    "    \n",
    "    sample_submission = sample_submission.drop(columns = 'rating1')\n",
    "    \n",
    "#     return sample_submission\n",
    "\n",
    "\n",
    "    \n",
    "    # Calculating medians\n",
    "#     temp  = pred_submission.copy()\n",
    "#     temp['target'] = temp.prediction_id.apply(lambda x: '_'.join(x.split('_')[2:]))\n",
    "#     pred_medians = temp.groupby('target')['rating'].median()\n",
    "\n",
    "    sample_submission['rating'] = sample_submission['rating'].abs().fillna(\n",
    "        \n",
    "        sample_submission.prediction_id.apply(lambda x: '_'.join(x.split('_')[2:])).map(target_meds.rating)\n",
    "    \n",
    "    ).fillna(0)\n",
    "    sample_submission['rating'] = sample_submission['rating'].apply(lambda x: np.clip(np.ceil(x),0,None))\n",
    "\n",
    "    return sample_submission"
   ]
  },
  {
   "cell_type": "markdown",
   "id": "c6d05765",
   "metadata": {
    "papermill": {
     "duration": 0.009812,
     "end_time": "2023-04-28T14:24:50.486529",
     "exception": false,
     "start_time": "2023-04-28T14:24:50.476717",
     "status": "completed"
    },
    "tags": []
   },
   "source": [
    "**Testing the model for sample test data**"
   ]
  },
  {
   "cell_type": "code",
   "execution_count": 22,
   "id": "65ed5c79",
   "metadata": {
    "execution": {
     "iopub.execute_input": "2023-04-28T14:24:50.506773Z",
     "iopub.status.busy": "2023-04-28T14:24:50.506345Z",
     "iopub.status.idle": "2023-04-28T14:24:50.549214Z",
     "shell.execute_reply": "2023-04-28T14:24:50.547942Z"
    },
    "papermill": {
     "duration": 0.056445,
     "end_time": "2023-04-28T14:24:50.552201",
     "exception": false,
     "start_time": "2023-04-28T14:24:50.495756",
     "status": "completed"
    },
    "tags": []
   },
   "outputs": [],
   "source": [
    "# Reading the test files\n",
    "test_peptides = pd.read_csv('/kaggle/input/amp-parkinsons-disease-progression-prediction/example_test_files/test_peptides.csv') \n",
    "test_proteins = pd.read_csv('/kaggle/input/amp-parkinsons-disease-progression-prediction/example_test_files/test_proteins.csv') \n",
    "sample_submission = pd.read_csv('/kaggle/input/amp-parkinsons-disease-progression-prediction/example_test_files/sample_submission.csv')\n",
    "test = pd.read_csv('/kaggle/input/amp-parkinsons-disease-progression-prediction/example_test_files/test.csv')"
   ]
  },
  {
   "cell_type": "code",
   "execution_count": 23,
   "id": "da653681",
   "metadata": {
    "execution": {
     "iopub.execute_input": "2023-04-28T14:24:50.575530Z",
     "iopub.status.busy": "2023-04-28T14:24:50.574071Z",
     "iopub.status.idle": "2023-04-28T14:24:51.038181Z",
     "shell.execute_reply": "2023-04-28T14:24:51.036482Z"
    },
    "papermill": {
     "duration": 0.478263,
     "end_time": "2023-04-28T14:24:51.041269",
     "exception": false,
     "start_time": "2023-04-28T14:24:50.563006",
     "status": "completed"
    },
    "tags": []
   },
   "outputs": [
    {
     "data": {
      "text/html": [
       "<div>\n",
       "<style scoped>\n",
       "    .dataframe tbody tr th:only-of-type {\n",
       "        vertical-align: middle;\n",
       "    }\n",
       "\n",
       "    .dataframe tbody tr th {\n",
       "        vertical-align: top;\n",
       "    }\n",
       "\n",
       "    .dataframe thead th {\n",
       "        text-align: right;\n",
       "    }\n",
       "</style>\n",
       "<table border=\"1\" class=\"dataframe\">\n",
       "  <thead>\n",
       "    <tr style=\"text-align: right;\">\n",
       "      <th></th>\n",
       "      <th>prediction_id</th>\n",
       "      <th>group_key</th>\n",
       "      <th>rating</th>\n",
       "    </tr>\n",
       "  </thead>\n",
       "  <tbody>\n",
       "    <tr>\n",
       "      <th>0</th>\n",
       "      <td>3342_0_updrs_1_plus_0_months</td>\n",
       "      <td>0</td>\n",
       "      <td>5.000</td>\n",
       "    </tr>\n",
       "    <tr>\n",
       "      <th>1</th>\n",
       "      <td>3342_0_updrs_1_plus_6_months</td>\n",
       "      <td>0</td>\n",
       "      <td>6.000</td>\n",
       "    </tr>\n",
       "    <tr>\n",
       "      <th>2</th>\n",
       "      <td>3342_0_updrs_1_plus_12_months</td>\n",
       "      <td>0</td>\n",
       "      <td>6.000</td>\n",
       "    </tr>\n",
       "    <tr>\n",
       "      <th>3</th>\n",
       "      <td>3342_0_updrs_1_plus_24_months</td>\n",
       "      <td>0</td>\n",
       "      <td>6.000</td>\n",
       "    </tr>\n",
       "    <tr>\n",
       "      <th>4</th>\n",
       "      <td>3342_0_updrs_2_plus_0_months</td>\n",
       "      <td>0</td>\n",
       "      <td>5.000</td>\n",
       "    </tr>\n",
       "    <tr>\n",
       "      <th>5</th>\n",
       "      <td>3342_0_updrs_2_plus_6_months</td>\n",
       "      <td>0</td>\n",
       "      <td>6.000</td>\n",
       "    </tr>\n",
       "    <tr>\n",
       "      <th>6</th>\n",
       "      <td>3342_0_updrs_2_plus_12_months</td>\n",
       "      <td>0</td>\n",
       "      <td>6.000</td>\n",
       "    </tr>\n",
       "    <tr>\n",
       "      <th>7</th>\n",
       "      <td>3342_0_updrs_2_plus_24_months</td>\n",
       "      <td>0</td>\n",
       "      <td>6.000</td>\n",
       "    </tr>\n",
       "    <tr>\n",
       "      <th>8</th>\n",
       "      <td>3342_0_updrs_3_plus_0_months</td>\n",
       "      <td>0</td>\n",
       "      <td>18.000</td>\n",
       "    </tr>\n",
       "    <tr>\n",
       "      <th>9</th>\n",
       "      <td>3342_0_updrs_3_plus_6_months</td>\n",
       "      <td>0</td>\n",
       "      <td>21.000</td>\n",
       "    </tr>\n",
       "    <tr>\n",
       "      <th>10</th>\n",
       "      <td>3342_0_updrs_3_plus_12_months</td>\n",
       "      <td>0</td>\n",
       "      <td>21.000</td>\n",
       "    </tr>\n",
       "    <tr>\n",
       "      <th>11</th>\n",
       "      <td>3342_0_updrs_3_plus_24_months</td>\n",
       "      <td>0</td>\n",
       "      <td>21.000</td>\n",
       "    </tr>\n",
       "    <tr>\n",
       "      <th>12</th>\n",
       "      <td>3342_0_updrs_4_plus_0_months</td>\n",
       "      <td>0</td>\n",
       "      <td>0.000</td>\n",
       "    </tr>\n",
       "    <tr>\n",
       "      <th>13</th>\n",
       "      <td>3342_0_updrs_4_plus_6_months</td>\n",
       "      <td>0</td>\n",
       "      <td>0.000</td>\n",
       "    </tr>\n",
       "    <tr>\n",
       "      <th>14</th>\n",
       "      <td>3342_0_updrs_4_plus_12_months</td>\n",
       "      <td>0</td>\n",
       "      <td>0.000</td>\n",
       "    </tr>\n",
       "    <tr>\n",
       "      <th>15</th>\n",
       "      <td>3342_0_updrs_4_plus_24_months</td>\n",
       "      <td>0</td>\n",
       "      <td>0.000</td>\n",
       "    </tr>\n",
       "    <tr>\n",
       "      <th>16</th>\n",
       "      <td>50423_0_updrs_1_plus_0_months</td>\n",
       "      <td>0</td>\n",
       "      <td>5.000</td>\n",
       "    </tr>\n",
       "    <tr>\n",
       "      <th>17</th>\n",
       "      <td>50423_0_updrs_1_plus_6_months</td>\n",
       "      <td>0</td>\n",
       "      <td>6.000</td>\n",
       "    </tr>\n",
       "    <tr>\n",
       "      <th>18</th>\n",
       "      <td>50423_0_updrs_1_plus_12_months</td>\n",
       "      <td>0</td>\n",
       "      <td>6.000</td>\n",
       "    </tr>\n",
       "    <tr>\n",
       "      <th>19</th>\n",
       "      <td>50423_0_updrs_1_plus_24_months</td>\n",
       "      <td>0</td>\n",
       "      <td>6.000</td>\n",
       "    </tr>\n",
       "    <tr>\n",
       "      <th>20</th>\n",
       "      <td>50423_0_updrs_2_plus_0_months</td>\n",
       "      <td>0</td>\n",
       "      <td>5.000</td>\n",
       "    </tr>\n",
       "    <tr>\n",
       "      <th>21</th>\n",
       "      <td>50423_0_updrs_2_plus_6_months</td>\n",
       "      <td>0</td>\n",
       "      <td>6.000</td>\n",
       "    </tr>\n",
       "    <tr>\n",
       "      <th>22</th>\n",
       "      <td>50423_0_updrs_2_plus_12_months</td>\n",
       "      <td>0</td>\n",
       "      <td>6.000</td>\n",
       "    </tr>\n",
       "    <tr>\n",
       "      <th>23</th>\n",
       "      <td>50423_0_updrs_2_plus_24_months</td>\n",
       "      <td>0</td>\n",
       "      <td>6.000</td>\n",
       "    </tr>\n",
       "    <tr>\n",
       "      <th>24</th>\n",
       "      <td>50423_0_updrs_3_plus_0_months</td>\n",
       "      <td>0</td>\n",
       "      <td>18.000</td>\n",
       "    </tr>\n",
       "    <tr>\n",
       "      <th>25</th>\n",
       "      <td>50423_0_updrs_3_plus_6_months</td>\n",
       "      <td>0</td>\n",
       "      <td>21.000</td>\n",
       "    </tr>\n",
       "    <tr>\n",
       "      <th>26</th>\n",
       "      <td>50423_0_updrs_3_plus_12_months</td>\n",
       "      <td>0</td>\n",
       "      <td>21.000</td>\n",
       "    </tr>\n",
       "    <tr>\n",
       "      <th>27</th>\n",
       "      <td>50423_0_updrs_3_plus_24_months</td>\n",
       "      <td>0</td>\n",
       "      <td>21.000</td>\n",
       "    </tr>\n",
       "    <tr>\n",
       "      <th>28</th>\n",
       "      <td>50423_0_updrs_4_plus_0_months</td>\n",
       "      <td>0</td>\n",
       "      <td>0.000</td>\n",
       "    </tr>\n",
       "    <tr>\n",
       "      <th>29</th>\n",
       "      <td>50423_0_updrs_4_plus_6_months</td>\n",
       "      <td>0</td>\n",
       "      <td>0.000</td>\n",
       "    </tr>\n",
       "    <tr>\n",
       "      <th>30</th>\n",
       "      <td>50423_0_updrs_4_plus_12_months</td>\n",
       "      <td>0</td>\n",
       "      <td>0.000</td>\n",
       "    </tr>\n",
       "    <tr>\n",
       "      <th>31</th>\n",
       "      <td>50423_0_updrs_4_plus_24_months</td>\n",
       "      <td>0</td>\n",
       "      <td>0.000</td>\n",
       "    </tr>\n",
       "    <tr>\n",
       "      <th>32</th>\n",
       "      <td>3342_6_updrs_1_plus_0_months</td>\n",
       "      <td>6</td>\n",
       "      <td>6.000</td>\n",
       "    </tr>\n",
       "    <tr>\n",
       "      <th>33</th>\n",
       "      <td>3342_6_updrs_1_plus_6_months</td>\n",
       "      <td>6</td>\n",
       "      <td>6.000</td>\n",
       "    </tr>\n",
       "    <tr>\n",
       "      <th>34</th>\n",
       "      <td>3342_6_updrs_1_plus_12_months</td>\n",
       "      <td>6</td>\n",
       "      <td>6.000</td>\n",
       "    </tr>\n",
       "    <tr>\n",
       "      <th>35</th>\n",
       "      <td>3342_6_updrs_1_plus_24_months</td>\n",
       "      <td>6</td>\n",
       "      <td>6.000</td>\n",
       "    </tr>\n",
       "    <tr>\n",
       "      <th>36</th>\n",
       "      <td>3342_6_updrs_2_plus_0_months</td>\n",
       "      <td>6</td>\n",
       "      <td>6.000</td>\n",
       "    </tr>\n",
       "    <tr>\n",
       "      <th>37</th>\n",
       "      <td>3342_6_updrs_2_plus_6_months</td>\n",
       "      <td>6</td>\n",
       "      <td>6.000</td>\n",
       "    </tr>\n",
       "    <tr>\n",
       "      <th>38</th>\n",
       "      <td>3342_6_updrs_2_plus_12_months</td>\n",
       "      <td>6</td>\n",
       "      <td>6.000</td>\n",
       "    </tr>\n",
       "    <tr>\n",
       "      <th>39</th>\n",
       "      <td>3342_6_updrs_2_plus_24_months</td>\n",
       "      <td>6</td>\n",
       "      <td>6.000</td>\n",
       "    </tr>\n",
       "    <tr>\n",
       "      <th>40</th>\n",
       "      <td>3342_6_updrs_3_plus_0_months</td>\n",
       "      <td>6</td>\n",
       "      <td>21.000</td>\n",
       "    </tr>\n",
       "    <tr>\n",
       "      <th>41</th>\n",
       "      <td>3342_6_updrs_3_plus_6_months</td>\n",
       "      <td>6</td>\n",
       "      <td>21.000</td>\n",
       "    </tr>\n",
       "    <tr>\n",
       "      <th>42</th>\n",
       "      <td>3342_6_updrs_3_plus_12_months</td>\n",
       "      <td>6</td>\n",
       "      <td>21.000</td>\n",
       "    </tr>\n",
       "    <tr>\n",
       "      <th>43</th>\n",
       "      <td>3342_6_updrs_3_plus_24_months</td>\n",
       "      <td>6</td>\n",
       "      <td>22.000</td>\n",
       "    </tr>\n",
       "    <tr>\n",
       "      <th>44</th>\n",
       "      <td>3342_6_updrs_4_plus_0_months</td>\n",
       "      <td>6</td>\n",
       "      <td>0.000</td>\n",
       "    </tr>\n",
       "    <tr>\n",
       "      <th>45</th>\n",
       "      <td>3342_6_updrs_4_plus_6_months</td>\n",
       "      <td>6</td>\n",
       "      <td>0.000</td>\n",
       "    </tr>\n",
       "    <tr>\n",
       "      <th>46</th>\n",
       "      <td>3342_6_updrs_4_plus_12_months</td>\n",
       "      <td>6</td>\n",
       "      <td>0.000</td>\n",
       "    </tr>\n",
       "    <tr>\n",
       "      <th>47</th>\n",
       "      <td>3342_6_updrs_4_plus_24_months</td>\n",
       "      <td>6</td>\n",
       "      <td>0.000</td>\n",
       "    </tr>\n",
       "    <tr>\n",
       "      <th>48</th>\n",
       "      <td>50423_6_updrs_1_plus_0_months</td>\n",
       "      <td>6</td>\n",
       "      <td>6.000</td>\n",
       "    </tr>\n",
       "    <tr>\n",
       "      <th>49</th>\n",
       "      <td>50423_6_updrs_1_plus_6_months</td>\n",
       "      <td>6</td>\n",
       "      <td>6.000</td>\n",
       "    </tr>\n",
       "  </tbody>\n",
       "</table>\n",
       "</div>"
      ],
      "text/plain": [
       "                     prediction_id  group_key  rating\n",
       "0     3342_0_updrs_1_plus_0_months          0   5.000\n",
       "1     3342_0_updrs_1_plus_6_months          0   6.000\n",
       "2    3342_0_updrs_1_plus_12_months          0   6.000\n",
       "3    3342_0_updrs_1_plus_24_months          0   6.000\n",
       "4     3342_0_updrs_2_plus_0_months          0   5.000\n",
       "5     3342_0_updrs_2_plus_6_months          0   6.000\n",
       "6    3342_0_updrs_2_plus_12_months          0   6.000\n",
       "7    3342_0_updrs_2_plus_24_months          0   6.000\n",
       "8     3342_0_updrs_3_plus_0_months          0  18.000\n",
       "9     3342_0_updrs_3_plus_6_months          0  21.000\n",
       "10   3342_0_updrs_3_plus_12_months          0  21.000\n",
       "11   3342_0_updrs_3_plus_24_months          0  21.000\n",
       "12    3342_0_updrs_4_plus_0_months          0   0.000\n",
       "13    3342_0_updrs_4_plus_6_months          0   0.000\n",
       "14   3342_0_updrs_4_plus_12_months          0   0.000\n",
       "15   3342_0_updrs_4_plus_24_months          0   0.000\n",
       "16   50423_0_updrs_1_plus_0_months          0   5.000\n",
       "17   50423_0_updrs_1_plus_6_months          0   6.000\n",
       "18  50423_0_updrs_1_plus_12_months          0   6.000\n",
       "19  50423_0_updrs_1_plus_24_months          0   6.000\n",
       "20   50423_0_updrs_2_plus_0_months          0   5.000\n",
       "21   50423_0_updrs_2_plus_6_months          0   6.000\n",
       "22  50423_0_updrs_2_plus_12_months          0   6.000\n",
       "23  50423_0_updrs_2_plus_24_months          0   6.000\n",
       "24   50423_0_updrs_3_plus_0_months          0  18.000\n",
       "25   50423_0_updrs_3_plus_6_months          0  21.000\n",
       "26  50423_0_updrs_3_plus_12_months          0  21.000\n",
       "27  50423_0_updrs_3_plus_24_months          0  21.000\n",
       "28   50423_0_updrs_4_plus_0_months          0   0.000\n",
       "29   50423_0_updrs_4_plus_6_months          0   0.000\n",
       "30  50423_0_updrs_4_plus_12_months          0   0.000\n",
       "31  50423_0_updrs_4_plus_24_months          0   0.000\n",
       "32    3342_6_updrs_1_plus_0_months          6   6.000\n",
       "33    3342_6_updrs_1_plus_6_months          6   6.000\n",
       "34   3342_6_updrs_1_plus_12_months          6   6.000\n",
       "35   3342_6_updrs_1_plus_24_months          6   6.000\n",
       "36    3342_6_updrs_2_plus_0_months          6   6.000\n",
       "37    3342_6_updrs_2_plus_6_months          6   6.000\n",
       "38   3342_6_updrs_2_plus_12_months          6   6.000\n",
       "39   3342_6_updrs_2_plus_24_months          6   6.000\n",
       "40    3342_6_updrs_3_plus_0_months          6  21.000\n",
       "41    3342_6_updrs_3_plus_6_months          6  21.000\n",
       "42   3342_6_updrs_3_plus_12_months          6  21.000\n",
       "43   3342_6_updrs_3_plus_24_months          6  22.000\n",
       "44    3342_6_updrs_4_plus_0_months          6   0.000\n",
       "45    3342_6_updrs_4_plus_6_months          6   0.000\n",
       "46   3342_6_updrs_4_plus_12_months          6   0.000\n",
       "47   3342_6_updrs_4_plus_24_months          6   0.000\n",
       "48   50423_6_updrs_1_plus_0_months          6   6.000\n",
       "49   50423_6_updrs_1_plus_6_months          6   6.000"
      ]
     },
     "execution_count": 23,
     "metadata": {},
     "output_type": "execute_result"
    }
   ],
   "source": [
    "get_predictions(target_data,test,sample_submission,models,target_meds).head(50)"
   ]
  },
  {
   "cell_type": "code",
   "execution_count": 24,
   "id": "05bb061a",
   "metadata": {
    "execution": {
     "iopub.execute_input": "2023-04-28T14:24:51.063778Z",
     "iopub.status.busy": "2023-04-28T14:24:51.063281Z",
     "iopub.status.idle": "2023-04-28T14:24:51.069820Z",
     "shell.execute_reply": "2023-04-28T14:24:51.067991Z"
    },
    "papermill": {
     "duration": 0.021673,
     "end_time": "2023-04-28T14:24:51.073427",
     "exception": false,
     "start_time": "2023-04-28T14:24:51.051754",
     "status": "completed"
    },
    "tags": []
   },
   "outputs": [],
   "source": [
    "# ss.head(50)"
   ]
  },
  {
   "cell_type": "code",
   "execution_count": 25,
   "id": "2b88c100",
   "metadata": {
    "execution": {
     "iopub.execute_input": "2023-04-28T14:24:51.095854Z",
     "iopub.status.busy": "2023-04-28T14:24:51.095401Z",
     "iopub.status.idle": "2023-04-28T14:24:51.120199Z",
     "shell.execute_reply": "2023-04-28T14:24:51.119108Z"
    },
    "papermill": {
     "duration": 0.040069,
     "end_time": "2023-04-28T14:24:51.123155",
     "exception": false,
     "start_time": "2023-04-28T14:24:51.083086",
     "status": "completed"
    },
    "tags": []
   },
   "outputs": [],
   "source": [
    "import sys\n",
    "sys.path.append('/kaggle/input/amp-parkinsons-disease-progression-prediction/')\n",
    "\n",
    "import amp_pd_peptide\n",
    "amp_pd_peptide.make_env.func_dict['__called__'] = False\n",
    "env = amp_pd_peptide.make_env()\n",
    "\n",
    "iter_test = env.iter_test() \n"
   ]
  },
  {
   "cell_type": "code",
   "execution_count": 26,
   "id": "dc9d3ab7",
   "metadata": {
    "execution": {
     "iopub.execute_input": "2023-04-28T14:24:51.146192Z",
     "iopub.status.busy": "2023-04-28T14:24:51.145770Z",
     "iopub.status.idle": "2023-04-28T14:24:51.154240Z",
     "shell.execute_reply": "2023-04-28T14:24:51.152758Z"
    },
    "papermill": {
     "duration": 0.023136,
     "end_time": "2023-04-28T14:24:51.156858",
     "exception": false,
     "start_time": "2023-04-28T14:24:51.133722",
     "status": "completed"
    },
    "tags": []
   },
   "outputs": [],
   "source": [
    "# Saving test_peptides and test_proteins\n",
    "test_peps= pd.DataFrame()\n",
    "test_pros = pd.DataFrame()\n",
    "test_1 = pd.DataFrame()"
   ]
  },
  {
   "cell_type": "code",
   "execution_count": 27,
   "id": "7e209f56",
   "metadata": {
    "execution": {
     "iopub.execute_input": "2023-04-28T14:24:51.178900Z",
     "iopub.status.busy": "2023-04-28T14:24:51.177377Z",
     "iopub.status.idle": "2023-04-28T14:24:51.981348Z",
     "shell.execute_reply": "2023-04-28T14:24:51.979418Z"
    },
    "papermill": {
     "duration": 0.81804,
     "end_time": "2023-04-28T14:24:51.984373",
     "exception": false,
     "start_time": "2023-04-28T14:24:51.166333",
     "status": "completed"
    },
    "tags": []
   },
   "outputs": [
    {
     "name": "stdout",
     "output_type": "stream",
     "text": [
      "This version of the API is not optimized and should not be used to estimate the runtime of your code on the hidden test set.\n"
     ]
    }
   ],
   "source": [
    "for (test, test_peptides, test_proteins, sample_submission) in iter_test:\n",
    "    \n",
    "#     test_peps = pd.concat([test_peps,test_peptides],axis = 0)\n",
    "#     test_pros = pd.concat([test_pros,test_proteins],axis = 0)\n",
    "    test_1 = pd.concat([test_1,test],axis = 0)\n",
    "    \n",
    "    submission = get_predictions(target_data,test_1,sample_submission,models, target_meds)\n",
    "    submission = submission.drop_duplicates(subset=['prediction_id', 'rating'])\n",
    "    env.predict(submission)"
   ]
  },
  {
   "cell_type": "code",
   "execution_count": 28,
   "id": "a951da63",
   "metadata": {
    "execution": {
     "iopub.execute_input": "2023-04-28T14:24:52.008918Z",
     "iopub.status.busy": "2023-04-28T14:24:52.008480Z",
     "iopub.status.idle": "2023-04-28T14:24:52.014680Z",
     "shell.execute_reply": "2023-04-28T14:24:52.012236Z"
    },
    "papermill": {
     "duration": 0.023183,
     "end_time": "2023-04-28T14:24:52.018836",
     "exception": false,
     "start_time": "2023-04-28T14:24:51.995653",
     "status": "completed"
    },
    "tags": []
   },
   "outputs": [],
   "source": [
    "# submission"
   ]
  }
 ],
 "metadata": {
  "kernelspec": {
   "display_name": "Python 3",
   "language": "python",
   "name": "python3"
  },
  "language_info": {
   "codemirror_mode": {
    "name": "ipython",
    "version": 3
   },
   "file_extension": ".py",
   "mimetype": "text/x-python",
   "name": "python",
   "nbconvert_exporter": "python",
   "pygments_lexer": "ipython3",
   "version": "3.7.12"
  },
  "papermill": {
   "default_parameters": {},
   "duration": 25.375877,
   "end_time": "2023-04-28T14:24:53.157628",
   "environment_variables": {},
   "exception": null,
   "input_path": "__notebook__.ipynb",
   "output_path": "__notebook__.ipynb",
   "parameters": {},
   "start_time": "2023-04-28T14:24:27.781751",
   "version": "2.4.0"
  }
 },
 "nbformat": 4,
 "nbformat_minor": 5
}
